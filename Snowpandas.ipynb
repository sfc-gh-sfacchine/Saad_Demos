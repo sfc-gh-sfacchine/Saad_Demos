{
 "metadata": {},
 "nbformat_minor": 5,
 "nbformat": 4,
 "cells": [
  {
   "cell_type": "markdown",
   "id": "be1f00cb-5cd0-49a2-a284-3fbdeb3b2f29",
   "metadata": {
    "name": "cell1",
    "collapsed": false
   },
   "source": "**Introducing Snowpandas**\n\nPandas is a very, *very* popular python package that Data Scientists love for exploring, manipulating, and engineering data. \n\nThe Snowpark API is based on Dataframe syntax, which is familiar for Data Engineers, but requires a little bit more of a learning curve for Data Scientists.\n\nThe Snowpandas API aims to bridge the gap between Snowpark and Pandas so that Data Scientists can easily begin to work on their data, without having to learn another package syntax.\n\nBelow is an example."
  }
 ]
}